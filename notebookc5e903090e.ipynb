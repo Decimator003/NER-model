{
 "cells": [
  {
   "cell_type": "markdown",
   "metadata": {},
   "source": [
    "# Introduction"
   ]
  },
  {
   "cell_type": "markdown",
   "metadata": {},
   "source": [
    "The dataset originally has **330 features (columns)** but based on diabetes disease research regarding factors influencing diabetes disease and other chronic health conditions the publisher of that dataset clean **BRFSS** data into a **useable format for machine learning alogrithms**. \n",
    "__________________________________________________________________________________________________________________________\n",
    "\n",
    "**Important risk factors for diabetes :**\n",
    "\n",
    "( blood pressure (high) , cholesterol (high) , smoking , diabetes , obesity , age , sex , race , diet , exercise , alcohol consumption , BMI , Household Income , Marital Status , Sleep , Time since last checkup , Education , Health care coverage , Mental Health )\n",
    "___________________________________________________________________________________________________________________________\n",
    "\n",
    "### About Columns :\n",
    "\n",
    "**Diabetes_binary** : you have diabetes (0,1)\n",
    "\n",
    "**HighBP** : Adults who have been told they have high blood pressure by a doctor, nurse, or other health professional (0,1)\n",
    "\n",
    "**HighChol** : Have you EVER been told by a doctor, nurse or other health professional that your blood cholesterol is high? (0,1)\n",
    "\n",
    "**CholCheck** : Cholesterol check within past five years (0,1)\n",
    "\n",
    "**BMI** : Body Mass Index (BMI) \n",
    "\n",
    "**Smoker** : Have you smoked at least 100 cigarettes in your entire life? [Note: 5 packs = 100 cigarettes] (0,1)\n",
    "\n",
    "**Stroke** : (Ever told) you had a stroke. (0,1)\n",
    "\n",
    "**HeartDiseaseorAttack** : Respondents that have ever reported having coronary heart disease (CHD) or myocardial infarction (MI) (0,1)\n",
    "\n",
    "**PhysActivity** : Adults who reported doing physical activity or exercise during the past 30 days other than their regular job (0,1)\n",
    "\n",
    "**Fruits** : Consume Fruit 1 or more times per day (0,1)\n",
    "\n",
    "**Veggies** : Consume Vegetables 1 or more times per day (0,1)\n",
    "\n",
    "**HvyAlcoholConsump** : Heavy drinkers (adult men having more than 14 drinks per week and adult women having more than 7 drinks per week)(0,1)\n",
    "\n",
    "**AnyHealthcare** : Do you have any kind of health care coverage, including health insurance, prepaid plans such as HMOs, or government plans such as Medicare, or Indian Health Service? (0,1)\n",
    "\n",
    "**NoDocbcCost** : Was there a time in the past 12 months when you needed to see a doctor but could not because of cost? (0,1)\n",
    "\n",
    "**GenHlth** : Would you say that in general your health is: rate (1 ~ 5)\n",
    "\n",
    "**MentHlth** : Now thinking about your mental health, which includes stress, depression, and problems with emotions, for how many days during the past 30 days was your mental health not good? (0 ~ 30)\n",
    "\n",
    "**PhysHlth** : Now thinking about your physical health, which includes physical illness and injury, for how many days during the past 30 days was your physical health not good? (0 ~ 30)\n",
    "\n",
    "**DiffWalk** : Do you have serious difficulty walking or climbing stairs? (0,1)\n",
    "\n",
    "**Sex** : Indicate sex of respondent (0,1) (Female or Male)\n",
    "\n",
    "**Age** : Fourteen-level age category (1 ~ 14)\n",
    "\n",
    "**Education** : What is the highest grade or year of school you completed? (1 ~ 6)\n",
    "\n",
    "**Income** : Is your annual household income from all sources: (If respondent refuses at any income level, code \"Refused.\") (1 ~ 8)"
   ]
  },
  {
   "cell_type": "markdown",
   "metadata": {},
   "source": [
    "# Import Libraries"
   ]
  },
  {
   "cell_type": "markdown",
   "metadata": {},
   "source": [
    "_________________________________________________________________________________________________________________________"
   ]
  },
  {
   "cell_type": "code",
   "execution_count": null,
   "metadata": {
    "execution": {
     "iopub.execute_input": "2022-10-05T16:02:44.775346Z",
     "iopub.status.busy": "2022-10-05T16:02:44.77459Z",
     "iopub.status.idle": "2022-10-05T16:02:44.799486Z",
     "shell.execute_reply": "2022-10-05T16:02:44.797963Z",
     "shell.execute_reply.started": "2022-10-05T16:02:44.775287Z"
    },
    "trusted": true
   },
   "outputs": [],
   "source": [
    "import pandas as pd \n",
    "import numpy as np \n",
    "import seaborn as sns \n",
    "import matplotlib.pyplot as plt \n",
    "from pandas_profiling import ProfileReport\n",
    "import math\n",
    "\n",
    "from statsmodels.stats.outliers_influence import variance_inflation_factor\n",
    "from statsmodels.tools.tools import add_constant  \n",
    "from statsmodels.stats.outliers_influence import variance_inflation_factor\n",
    "from statsmodels.tools.tools import add_constant  \n",
    "from sklearn.feature_selection import SelectKBest\n",
    "from sklearn.feature_selection import chi2\n",
    "from sklearn.datasets import make_classification\n",
    "from sklearn.feature_selection import SelectKBest\n",
    "from sklearn.feature_selection import f_classif\n",
    "from sklearn.model_selection import train_test_split\n",
    "from imblearn.over_sampling import SMOTE\n",
    "\n",
    "from sklearn.metrics import confusion_matrix,plot_roc_curve, classification_report\n",
    "from sklearn.metrics import mean_absolute_error , mean_absolute_percentage_error , mean_squared_error , accuracy_score\n",
    "from mlxtend.plotting import plot_confusion_matrix\n",
    "from sklearn.ensemble import RandomForestClassifier\n",
    "from sklearn.neighbors import KNeighborsClassifier\n",
    "from sklearn.tree import DecisionTreeClassifier\n",
    "from sklearn.linear_model import LogisticRegression\n",
    "%matplotlib inline\n",
    "\n",
    "import warnings\n",
    "warnings.filterwarnings(\"ignore\")"
   ]
  },
  {
   "cell_type": "markdown",
   "metadata": {},
   "source": [
    "________________________________________________________________________________________________________________"
   ]
  },
  {
   "cell_type": "markdown",
   "metadata": {},
   "source": [
    "# Data Exploring "
   ]
  },
  {
   "cell_type": "markdown",
   "metadata": {},
   "source": [
    "______________________________________________________________________________________________________________________"
   ]
  },
  {
   "cell_type": "code",
   "execution_count": null,
   "metadata": {
    "execution": {
     "iopub.execute_input": "2022-10-05T16:02:44.802006Z",
     "iopub.status.busy": "2022-10-05T16:02:44.801566Z",
     "iopub.status.idle": "2022-10-05T16:02:45.515464Z",
     "shell.execute_reply": "2022-10-05T16:02:45.514074Z",
     "shell.execute_reply.started": "2022-10-05T16:02:44.801961Z"
    },
    "trusted": true
   },
   "outputs": [],
   "source": [
    "Orginal_data = pd.read_csv(\"Data/diabetes_012_health_indicators_BRFSS2015.csv\" , sep = \",\" , encoding = 'utf-8')"
   ]
  },
  {
   "cell_type": "code",
   "execution_count": null,
   "metadata": {
    "execution": {
     "iopub.execute_input": "2022-10-05T16:02:45.520064Z",
     "iopub.status.busy": "2022-10-05T16:02:45.517573Z",
     "iopub.status.idle": "2022-10-05T16:02:46.186408Z",
     "shell.execute_reply": "2022-10-05T16:02:46.185047Z",
     "shell.execute_reply.started": "2022-10-05T16:02:45.520009Z"
    },
    "trusted": true
   },
   "outputs": [],
   "source": [
    "data = pd.read_csv(\"Data/diabetes_012_health_indicators_BRFSS2015.csv\" , sep = \",\" , encoding = 'utf-8')"
   ]
  },
  {
   "cell_type": "markdown",
   "metadata": {},
   "source": [
    "__________________________________________________________________________________________________________________"
   ]
  },
  {
   "cell_type": "markdown",
   "metadata": {},
   "source": [
    "## Dataset Report"
   ]
  },
  {
   "cell_type": "code",
   "execution_count": null,
   "metadata": {
    "execution": {
     "iopub.execute_input": "2022-10-05T16:02:46.189757Z",
     "iopub.status.busy": "2022-10-05T16:02:46.189291Z",
     "iopub.status.idle": "2022-10-05T16:02:46.199775Z",
     "shell.execute_reply": "2022-10-05T16:02:46.198123Z",
     "shell.execute_reply.started": "2022-10-05T16:02:46.189715Z"
    },
    "trusted": true
   },
   "outputs": [],
   "source": [
    "profile = ProfileReport(data)"
   ]
  },
  {
   "cell_type": "code",
   "execution_count": null,
   "metadata": {
    "execution": {
     "iopub.execute_input": "2022-10-05T16:02:46.201609Z",
     "iopub.status.busy": "2022-10-05T16:02:46.201231Z",
     "iopub.status.idle": "2022-10-05T16:03:42.348774Z",
     "shell.execute_reply": "2022-10-05T16:03:42.346829Z",
     "shell.execute_reply.started": "2022-10-05T16:02:46.201567Z"
    },
    "trusted": true
   },
   "outputs": [],
   "source": [
    "profile"
   ]
  },
  {
   "cell_type": "code",
   "execution_count": null,
   "metadata": {
    "execution": {
     "iopub.execute_input": "2022-10-05T16:03:42.351102Z",
     "iopub.status.busy": "2022-10-05T16:03:42.350683Z",
     "iopub.status.idle": "2022-10-05T16:03:42.358763Z",
     "shell.execute_reply": "2022-10-05T16:03:42.357556Z",
     "shell.execute_reply.started": "2022-10-05T16:03:42.351061Z"
    },
    "trusted": true
   },
   "outputs": [],
   "source": [
    "data.shape "
   ]
  },
  {
   "cell_type": "code",
   "execution_count": null,
   "metadata": {
    "execution": {
     "iopub.execute_input": "2022-10-05T16:03:42.362679Z",
     "iopub.status.busy": "2022-10-05T16:03:42.361949Z",
     "iopub.status.idle": "2022-10-05T16:03:42.391783Z",
     "shell.execute_reply": "2022-10-05T16:03:42.390299Z",
     "shell.execute_reply.started": "2022-10-05T16:03:42.362609Z"
    },
    "trusted": true
   },
   "outputs": [],
   "source": [
    "data.info()"
   ]
  },
  {
   "cell_type": "code",
   "execution_count": null,
   "metadata": {
    "execution": {
     "iopub.execute_input": "2022-10-05T16:03:42.393792Z",
     "iopub.status.busy": "2022-10-05T16:03:42.393366Z",
     "iopub.status.idle": "2022-10-05T16:03:42.428809Z",
     "shell.execute_reply": "2022-10-05T16:03:42.427319Z",
     "shell.execute_reply.started": "2022-10-05T16:03:42.393749Z"
    },
    "trusted": true
   },
   "outputs": [],
   "source": [
    "data.head()"
   ]
  },
  {
   "cell_type": "code",
   "execution_count": null,
   "metadata": {
    "execution": {
     "iopub.execute_input": "2022-10-05T16:03:42.430931Z",
     "iopub.status.busy": "2022-10-05T16:03:42.430512Z",
     "iopub.status.idle": "2022-10-05T16:03:42.734219Z",
     "shell.execute_reply": "2022-10-05T16:03:42.733264Z",
     "shell.execute_reply.started": "2022-10-05T16:03:42.430893Z"
    },
    "trusted": true
   },
   "outputs": [],
   "source": [
    "data.describe()"
   ]
  },
  {
   "cell_type": "markdown",
   "metadata": {},
   "source": [
    "_____________________________________________________________________________________________________________________________"
   ]
  },
  {
   "cell_type": "markdown",
   "metadata": {},
   "source": [
    "# Preprocessing"
   ]
  },
  {
   "cell_type": "markdown",
   "metadata": {},
   "source": [
    "___________________________________________________________________________________________________________________"
   ]
  },
  {
   "cell_type": "code",
   "execution_count": null,
   "metadata": {
    "execution": {
     "iopub.execute_input": "2022-10-05T16:03:42.736528Z",
     "iopub.status.busy": "2022-10-05T16:03:42.735434Z",
     "iopub.status.idle": "2022-10-05T16:03:42.742015Z",
     "shell.execute_reply": "2022-10-05T16:03:42.740538Z",
     "shell.execute_reply.started": "2022-10-05T16:03:42.736486Z"
    },
    "trusted": true
   },
   "outputs": [],
   "source": [
    "#Transform the data to integer"
   ]
  },
  {
   "cell_type": "code",
   "execution_count": null,
   "metadata": {
    "execution": {
     "iopub.execute_input": "2022-10-05T16:03:42.744168Z",
     "iopub.status.busy": "2022-10-05T16:03:42.743708Z",
     "iopub.status.idle": "2022-10-05T16:03:42.935614Z",
     "shell.execute_reply": "2022-10-05T16:03:42.934477Z",
     "shell.execute_reply.started": "2022-10-05T16:03:42.744128Z"
    },
    "trusted": true
   },
   "outputs": [],
   "source": [
    "data[\"Diabetes_binary\"] = data[\"Diabetes_binary\"].astype(int)\n",
    "data[\"HighBP\"] = data[\"HighBP\"].astype(int)\n",
    "data[\"HighChol\"] = data[\"HighChol\"].astype(int)\n",
    "data[\"CholCheck\"] = data[\"CholCheck\"].astype(int)\n",
    "data[\"BMI\"] = data[\"BMI\"].astype(int)\n",
    "data[\"Smoker\"] = data[\"Smoker\"].astype(int)\n",
    "data[\"Stroke\"] = data[\"Stroke\"].astype(int)\n",
    "data[\"HeartDiseaseorAttack\"] = data[\"HeartDiseaseorAttack\"].astype(int)\n",
    "data[\"PhysActivity\"] = data[\"PhysActivity\"].astype(int)\n",
    "data[\"Fruits\"] = data[\"Fruits\"].astype(int) \n",
    "data[\"Veggies\"] = data[\"Veggies\"].astype(int)\n",
    "data[\"HvyAlcoholConsump\"] = data[\"HvyAlcoholConsump\"].astype(int)\n",
    "data[\"AnyHealthcare\"] = data[\"AnyHealthcare\"].astype(int)\n",
    "data[\"NoDocbcCost\"] = data[\"NoDocbcCost\"].astype(int)\n",
    "data[\"GenHlth\"] = data[\"GenHlth\"].astype(int)\n",
    "data[\"MentHlth\"] = data[\"MentHlth\"].astype(int)\n",
    "data[\"PhysHlth\"] = data[\"PhysHlth\"].astype(int)\n",
    "data[\"DiffWalk\"] = data[\"DiffWalk\"].astype(int)\n",
    "data[\"Sex\"] = data[\"Sex\"].astype(int)\n",
    "data[\"Age\"] = data[\"Age\"].astype(int)\n",
    "data[\"Education\"] = data[\"Education\"].astype(int)\n",
    "data[\"Income\"] =data[\"Income\"].astype(int)"
   ]
  },
  {
   "cell_type": "code",
   "execution_count": null,
   "metadata": {
    "execution": {
     "iopub.execute_input": "2022-10-05T16:03:42.93758Z",
     "iopub.status.busy": "2022-10-05T16:03:42.937232Z",
     "iopub.status.idle": "2022-10-05T16:03:42.965882Z",
     "shell.execute_reply": "2022-10-05T16:03:42.96467Z",
     "shell.execute_reply.started": "2022-10-05T16:03:42.937548Z"
    },
    "trusted": true
   },
   "outputs": [],
   "source": [
    "data.info()"
   ]
  },
  {
   "cell_type": "markdown",
   "metadata": {},
   "source": [
    "**Check null values**"
   ]
  },
  {
   "cell_type": "code",
   "execution_count": null,
   "metadata": {
    "execution": {
     "iopub.execute_input": "2022-10-05T16:03:42.967834Z",
     "iopub.status.busy": "2022-10-05T16:03:42.967441Z",
     "iopub.status.idle": "2022-10-05T16:03:42.990027Z",
     "shell.execute_reply": "2022-10-05T16:03:42.98857Z",
     "shell.execute_reply.started": "2022-10-05T16:03:42.967796Z"
    },
    "trusted": true
   },
   "outputs": [],
   "source": [
    "data.isnull().sum()"
   ]
  },
  {
   "cell_type": "markdown",
   "metadata": {},
   "source": [
    "**checking unique values in different variables**"
   ]
  },
  {
   "cell_type": "code",
   "execution_count": null,
   "metadata": {
    "execution": {
     "iopub.execute_input": "2022-10-05T16:03:42.995068Z",
     "iopub.status.busy": "2022-10-05T16:03:42.994641Z",
     "iopub.status.idle": "2022-10-05T16:03:43.072768Z",
     "shell.execute_reply": "2022-10-05T16:03:43.071726Z",
     "shell.execute_reply.started": "2022-10-05T16:03:42.995028Z"
    },
    "trusted": true
   },
   "outputs": [],
   "source": [
    "unique_values = {}\n",
    "for col in data.columns:\n",
    "    unique_values[col] = data[col].value_counts().shape[0]\n",
    "\n",
    "pd.DataFrame(unique_values, index=['unique value count']).transpose()"
   ]
  },
  {
   "cell_type": "code",
   "execution_count": null,
   "metadata": {
    "execution": {
     "iopub.execute_input": "2022-10-05T16:03:43.075758Z",
     "iopub.status.busy": "2022-10-05T16:03:43.074935Z",
     "iopub.status.idle": "2022-10-05T16:03:43.083007Z",
     "shell.execute_reply": "2022-10-05T16:03:43.08126Z",
     "shell.execute_reply.started": "2022-10-05T16:03:43.075705Z"
    },
    "trusted": true
   },
   "outputs": [],
   "source": [
    "#Function to view the value counts for the whole data\n",
    "def v_counts(dataframe):\n",
    "    for i in dataframe :\n",
    "        print(dataframe[i].value_counts())\n",
    "        print(\"_____________________________________________________________________________\")"
   ]
  },
  {
   "cell_type": "code",
   "execution_count": null,
   "metadata": {
    "execution": {
     "iopub.execute_input": "2022-10-05T16:03:43.08577Z",
     "iopub.status.busy": "2022-10-05T16:03:43.084614Z",
     "iopub.status.idle": "2022-10-05T16:03:43.170134Z",
     "shell.execute_reply": "2022-10-05T16:03:43.168737Z",
     "shell.execute_reply.started": "2022-10-05T16:03:43.085723Z"
    },
    "trusted": true
   },
   "outputs": [],
   "source": [
    "v_counts(data)"
   ]
  },
  {
   "cell_type": "markdown",
   "metadata": {},
   "source": [
    "_______________________________________________________________________________________________________"
   ]
  },
  {
   "cell_type": "markdown",
   "metadata": {},
   "source": [
    "**Check The Outliers**"
   ]
  },
  {
   "cell_type": "code",
   "execution_count": null,
   "metadata": {
    "execution": {
     "iopub.execute_input": "2022-10-05T16:03:43.174011Z",
     "iopub.status.busy": "2022-10-05T16:03:43.172254Z",
     "iopub.status.idle": "2022-10-05T16:03:44.143081Z",
     "shell.execute_reply": "2022-10-05T16:03:44.141804Z",
     "shell.execute_reply.started": "2022-10-05T16:03:43.173943Z"
    },
    "trusted": true
   },
   "outputs": [],
   "source": [
    "plt.figure(figsize = (15,15))\n",
    "for i,col in enumerate(['BMI', 'GenHlth', 'MentHlth', 'PhysHlth', 'Age','Education', 'Income']):\n",
    "    plt.subplot(4,2,i+1)\n",
    "    sns.boxplot(x = col, data = data ,palette='Set2')\n",
    "plt.show()"
   ]
  },
  {
   "cell_type": "markdown",
   "metadata": {},
   "source": [
    "there is no outlayers in our data "
   ]
  },
  {
   "cell_type": "markdown",
   "metadata": {},
   "source": [
    "_____________________________________________________________________________________________________"
   ]
  },
  {
   "cell_type": "markdown",
   "metadata": {},
   "source": [
    "**Check and drop dublicated data**"
   ]
  },
  {
   "cell_type": "code",
   "execution_count": null,
   "metadata": {
    "execution": {
     "iopub.execute_input": "2022-10-05T16:03:44.145753Z",
     "iopub.status.busy": "2022-10-05T16:03:44.144986Z",
     "iopub.status.idle": "2022-10-05T16:03:44.252838Z",
     "shell.execute_reply": "2022-10-05T16:03:44.250222Z",
     "shell.execute_reply.started": "2022-10-05T16:03:44.145705Z"
    },
    "trusted": true
   },
   "outputs": [],
   "source": [
    "data.duplicated().sum()"
   ]
  },
  {
   "cell_type": "code",
   "execution_count": null,
   "metadata": {
    "execution": {
     "iopub.execute_input": "2022-10-05T16:03:44.257334Z",
     "iopub.status.busy": "2022-10-05T16:03:44.256726Z",
     "iopub.status.idle": "2022-10-05T16:03:44.383192Z",
     "shell.execute_reply": "2022-10-05T16:03:44.382134Z",
     "shell.execute_reply.started": "2022-10-05T16:03:44.257291Z"
    },
    "trusted": true
   },
   "outputs": [],
   "source": [
    "data.drop_duplicates(inplace = True)"
   ]
  },
  {
   "cell_type": "code",
   "execution_count": null,
   "metadata": {
    "execution": {
     "iopub.execute_input": "2022-10-05T16:03:44.385338Z",
     "iopub.status.busy": "2022-10-05T16:03:44.384738Z",
     "iopub.status.idle": "2022-10-05T16:03:44.465184Z",
     "shell.execute_reply": "2022-10-05T16:03:44.463988Z",
     "shell.execute_reply.started": "2022-10-05T16:03:44.385301Z"
    },
    "trusted": true
   },
   "outputs": [],
   "source": [
    "data.duplicated().sum()"
   ]
  },
  {
   "cell_type": "code",
   "execution_count": null,
   "metadata": {
    "execution": {
     "iopub.execute_input": "2022-10-05T16:03:44.46785Z",
     "iopub.status.busy": "2022-10-05T16:03:44.467065Z",
     "iopub.status.idle": "2022-10-05T16:03:44.475375Z",
     "shell.execute_reply": "2022-10-05T16:03:44.474045Z",
     "shell.execute_reply.started": "2022-10-05T16:03:44.467803Z"
    },
    "trusted": true
   },
   "outputs": [],
   "source": [
    "data.shape"
   ]
  },
  {
   "cell_type": "markdown",
   "metadata": {},
   "source": [
    "_____________________________________________________________________________________________________________________"
   ]
  },
  {
   "cell_type": "markdown",
   "metadata": {},
   "source": [
    "**Some codes that help us in our EDA**"
   ]
  },
  {
   "cell_type": "code",
   "execution_count": null,
   "metadata": {
    "execution": {
     "iopub.execute_input": "2022-10-05T16:03:44.477239Z",
     "iopub.status.busy": "2022-10-05T16:03:44.476785Z",
     "iopub.status.idle": "2022-10-05T16:03:44.498612Z",
     "shell.execute_reply": "2022-10-05T16:03:44.497539Z",
     "shell.execute_reply.started": "2022-10-05T16:03:44.477194Z"
    },
    "trusted": true
   },
   "outputs": [],
   "source": [
    "#Replacing 0 into Non-Diabetic and 1 into Diabetic \n",
    "#adding new column Diabetes_binary_str  \n",
    "\n",
    "data[\"Diabetes_binary_str\"]= data[\"Diabetes_binary\"].replace({0:\"NOn-Diabetic\",1:\"Diabetic\"})"
   ]
  },
  {
   "cell_type": "code",
   "execution_count": null,
   "metadata": {
    "execution": {
     "iopub.execute_input": "2022-10-05T16:03:44.500958Z",
     "iopub.status.busy": "2022-10-05T16:03:44.500061Z",
     "iopub.status.idle": "2022-10-05T16:03:44.906093Z",
     "shell.execute_reply": "2022-10-05T16:03:44.904645Z",
     "shell.execute_reply.started": "2022-10-05T16:03:44.500906Z"
    },
    "trusted": true
   },
   "outputs": [],
   "source": [
    "#help us to show the categorical variable \n",
    "data2 = data.copy() "
   ]
  },
  {
   "cell_type": "code",
   "execution_count": null,
   "metadata": {
    "execution": {
     "iopub.execute_input": "2022-10-05T16:03:44.908715Z",
     "iopub.status.busy": "2022-10-05T16:03:44.908229Z",
     "iopub.status.idle": "2022-10-05T16:03:46.334543Z",
     "shell.execute_reply": "2022-10-05T16:03:46.333167Z",
     "shell.execute_reply.started": "2022-10-05T16:03:44.908667Z"
    },
    "trusted": true
   },
   "outputs": [],
   "source": [
    "# That help us to show the relation between features clearly\n",
    "\n",
    "data2.Age[data2['Age'] == 1] = '18 to 24'\n",
    "data2.Age[data2['Age'] == 2] = '25 to 29'\n",
    "data2.Age[data2['Age'] == 3] = '30 to 34'\n",
    "data2.Age[data2['Age'] == 4] = '35 to 39'\n",
    "data2.Age[data2['Age'] == 5] = '40 to 44'\n",
    "data2.Age[data2['Age'] == 6] = '45 to 49'\n",
    "data2.Age[data2['Age'] == 7] = '50 to 54'\n",
    "data2.Age[data2['Age'] == 8] = '55 to 59'\n",
    "data2.Age[data2['Age'] == 9] = '60 to 64'\n",
    "data2.Age[data2['Age'] == 10] = '65 to 69'\n",
    "data2.Age[data2['Age'] == 11] = '70 to 74'\n",
    "data2.Age[data2['Age'] == 12] = '75 to 79'\n",
    "data2.Age[data2['Age'] == 13] = '80 or older'\n",
    "\n",
    "data2.Diabetes_binary[data2['Diabetes_binary'] == 0] = 'No Diabetes'\n",
    "data2.Diabetes_binary[data2['Diabetes_binary'] == 1] = 'Diabetes'\n",
    "\n",
    "data2.HighBP[data2['HighBP'] == 0] = 'No High'\n",
    "data2.HighBP[data2['HighBP'] == 1] = 'High BP'\n",
    "\n",
    "data2.HighChol[data2['HighChol'] == 0] = 'No High Cholesterol'\n",
    "data2.HighChol[data2['HighChol'] == 1] = 'High Cholesterol'\n",
    "\n",
    "data2.CholCheck[data2['CholCheck'] == 0] = 'No Cholesterol Check in 5 Years'\n",
    "data2.CholCheck[data2['CholCheck'] == 1] = 'Cholesterol Check in 5 Years'\n",
    "\n",
    "data2.Smoker[data2['Smoker'] == 0] = 'No'\n",
    "data2.Smoker[data2['Smoker'] == 1] = 'Yes'\n",
    "\n",
    "data2.Stroke[data2['Stroke'] == 0] = 'No'\n",
    "data2.Stroke[data2['Stroke'] == 1] = 'Yes'\n",
    "\n",
    "data2.HeartDiseaseorAttack[data2['HeartDiseaseorAttack'] == 0] = 'No'\n",
    "data2.HeartDiseaseorAttack[data2['HeartDiseaseorAttack'] == 1] = 'Yes'\n",
    "\n",
    "data2.PhysActivity[data2['PhysActivity'] == 0] = 'No'\n",
    "data2.PhysActivity[data2['PhysActivity'] == 1] = 'Yes'\n",
    "\n",
    "data2.Fruits[data2['Fruits'] == 0] = 'No'\n",
    "data2.Fruits[data2['Fruits'] == 1] = 'Yes'\n",
    "\n",
    "data2.Veggies[data2['Veggies'] == 0] = 'No'\n",
    "data2.Veggies[data2['Veggies'] == 1] = 'Yes'\n",
    "\n",
    "data2.HvyAlcoholConsump[data2['HvyAlcoholConsump'] == 0] = 'No'\n",
    "data2.HvyAlcoholConsump[data2['HvyAlcoholConsump'] == 1] = 'Yes'\n",
    "\n",
    "data2.AnyHealthcare[data2['AnyHealthcare'] == 0] = 'No'\n",
    "data2.AnyHealthcare[data2['AnyHealthcare'] == 1] = 'Yes'\n",
    "\n",
    "data2.NoDocbcCost[data2['NoDocbcCost'] == 0] = 'No'\n",
    "data2.NoDocbcCost[data2['NoDocbcCost'] == 1] = 'Yes'\n",
    "\n",
    "data2.GenHlth[data2['GenHlth'] == 5] = 'Excellent'\n",
    "data2.GenHlth[data2['GenHlth'] == 4] = 'Very Good'\n",
    "data2.GenHlth[data2['GenHlth'] == 3] = 'Good'\n",
    "data2.GenHlth[data2['GenHlth'] == 2] = 'Fair'\n",
    "data2.GenHlth[data2['GenHlth'] == 1] = 'Poor'\n",
    "\n",
    "data2.DiffWalk[data2['DiffWalk'] == 0] = 'No'\n",
    "data2.DiffWalk[data2['DiffWalk'] == 1] = 'Yes'\n",
    "\n",
    "data2.Sex[data2['Sex'] == 0] = 'Female'\n",
    "data2.Sex[data2['Sex'] == 1] = 'Male'\n",
    "\n",
    "data2.Education[data2['Education'] == 1] = 'Never Attended School'\n",
    "data2.Education[data2['Education'] == 2] = 'Elementary'\n",
    "data2.Education[data2['Education'] == 3] = 'Junior High School'\n",
    "data2.Education[data2['Education'] == 4] = 'Senior High School'\n",
    "data2.Education[data2['Education'] == 5] = 'Undergraduate Degree'\n",
    "data2.Education[data2['Education'] == 6] = 'Magister'\n",
    "\n",
    "data2.Income[data2['Income'] == 1] = 'Less Than $10,000'\n",
    "data2.Income[data2['Income'] == 2] = 'Less Than $10,000'\n",
    "data2.Income[data2['Income'] == 3] = 'Less Than $10,000'\n",
    "data2.Income[data2['Income'] == 4] = 'Less Than $10,000'\n",
    "data2.Income[data2['Income'] == 5] = 'Less Than $35,000'\n",
    "data2.Income[data2['Income'] == 6] = 'Less Than $35,000'\n",
    "data2.Income[data2['Income'] == 7] = 'Less Than $35,000'\n",
    "data2.Income[data2['Income'] == 8] = '$75,000 or More'"
   ]
  },
  {
   "cell_type": "markdown",
   "metadata": {},
   "source": [
    "___________________________________________________________________________________________________________________________"
   ]
  },
  {
   "cell_type": "markdown",
   "metadata": {},
   "source": [
    "# EDA"
   ]
  },
  {
   "cell_type": "markdown",
   "metadata": {},
   "source": [
    "_____________________________________________________________________________________________________________________"
   ]
  },
  {
   "cell_type": "code",
   "execution_count": null,
   "metadata": {
    "execution": {
     "iopub.execute_input": "2022-10-05T16:03:46.336858Z",
     "iopub.status.busy": "2022-10-05T16:03:46.336412Z",
     "iopub.status.idle": "2022-10-05T16:03:49.557398Z",
     "shell.execute_reply": "2022-10-05T16:03:49.555913Z",
     "shell.execute_reply.started": "2022-10-05T16:03:46.336816Z"
    },
    "trusted": true
   },
   "outputs": [],
   "source": [
    "#using heatmap to understand correlation better in dataset data \n",
    "#Heatmap of correlation\n",
    "\n",
    "\n",
    "plt.figure(figsize = (20,10))\n",
    "sns.heatmap(data.corr(),annot=True , cmap ='YlOrRd' )\n",
    "plt.title(\"correlation of feature\")"
   ]
  },
  {
   "cell_type": "markdown",
   "metadata": {},
   "source": [
    "Correlation heatmap show relation between columns:\n",
    "\n",
    "(GenHlth ,PhysHlth ),(PhysHlth , DiffWalk),(GenHlth ,DiffWalk )are highly correleted with each other => **positive relation**\n"
   ]
  },
  {
   "cell_type": "markdown",
   "metadata": {},
   "source": [
    "(GenHlth ,Income ) , (DiffWalk , Income) are highly correleted with each other => **Nagative relation**"
   ]
  },
  {
   "cell_type": "markdown",
   "metadata": {},
   "source": [
    "__________________________________________________________________________________________________________________"
   ]
  },
  {
   "cell_type": "code",
   "execution_count": null,
   "metadata": {
    "execution": {
     "iopub.execute_input": "2022-10-05T16:03:49.560009Z",
     "iopub.status.busy": "2022-10-05T16:03:49.559462Z",
     "iopub.status.idle": "2022-10-05T16:03:53.13757Z",
     "shell.execute_reply": "2022-10-05T16:03:53.136342Z",
     "shell.execute_reply.started": "2022-10-05T16:03:49.559948Z"
    },
    "trusted": true
   },
   "outputs": [],
   "source": [
    "#using histogram to understand dataset data better\n",
    "\n",
    "data.hist(figsize=(20,15));"
   ]
  },
  {
   "cell_type": "markdown",
   "metadata": {},
   "source": [
    "____________________________________________________________________________________________________________________"
   ]
  },
  {
   "cell_type": "markdown",
   "metadata": {},
   "source": [
    "**Visualization Of [Yes - NO] Columns and their relation with the target**"
   ]
  },
  {
   "cell_type": "code",
   "execution_count": null,
   "metadata": {
    "execution": {
     "iopub.execute_input": "2022-10-05T16:03:53.139745Z",
     "iopub.status.busy": "2022-10-05T16:03:53.139317Z",
     "iopub.status.idle": "2022-10-05T16:03:53.145822Z",
     "shell.execute_reply": "2022-10-05T16:03:53.144452Z",
     "shell.execute_reply.started": "2022-10-05T16:03:53.139705Z"
    },
    "trusted": true
   },
   "outputs": [],
   "source": [
    "cols = ['HighBP', 'HighChol', 'CholCheck','Smoker',\n",
    "       'Stroke', 'HeartDiseaseorAttack', 'PhysActivity', 'Veggies',\n",
    "       'HvyAlcoholConsump', 'AnyHealthcare', 'NoDocbcCost', 'DiffWalk']"
   ]
  },
  {
   "cell_type": "code",
   "execution_count": null,
   "metadata": {
    "execution": {
     "iopub.execute_input": "2022-10-05T16:03:53.147734Z",
     "iopub.status.busy": "2022-10-05T16:03:53.14734Z",
     "iopub.status.idle": "2022-10-05T16:03:53.158542Z",
     "shell.execute_reply": "2022-10-05T16:03:53.157223Z",
     "shell.execute_reply.started": "2022-10-05T16:03:53.147696Z"
    },
    "trusted": true
   },
   "outputs": [],
   "source": [
    "def create_plot_pivot(data2, x_column):\n",
    "    \"\"\" Create a pivot table for satisfaction versus another rating for easy plotting. \"\"\"\n",
    "    _df_plot = data2.groupby([x_column, 'Diabetes_binary']).size() \\\n",
    "    .reset_index().pivot(columns='Diabetes_binary', index=x_column, values=0)\n",
    "    return _df_plot"
   ]
  },
  {
   "cell_type": "code",
   "execution_count": null,
   "metadata": {
    "execution": {
     "iopub.execute_input": "2022-10-05T16:03:53.16213Z",
     "iopub.status.busy": "2022-10-05T16:03:53.160327Z",
     "iopub.status.idle": "2022-10-05T16:03:55.598697Z",
     "shell.execute_reply": "2022-10-05T16:03:55.597253Z",
     "shell.execute_reply.started": "2022-10-05T16:03:53.162067Z"
    },
    "trusted": true
   },
   "outputs": [],
   "source": [
    "fig, ax = plt.subplots(3, 4, figsize=(20,20))\n",
    "axe = ax.ravel()\n",
    "\n",
    "c = len(cols)\n",
    "\n",
    "for i in range(c):\n",
    "    create_plot_pivot(data2, cols[i]).plot(kind='bar',stacked=True, ax=axe[i])\n",
    "    axe[i].set_xlabel(cols[i])\n",
    "    \n",
    "fig.show()"
   ]
  },
  {
   "cell_type": "markdown",
   "metadata": {},
   "source": [
    "______________________________________________________________________________________________________________"
   ]
  },
  {
   "cell_type": "markdown",
   "metadata": {},
   "source": [
    "**Let's view our target values \"Daibetes_binary\"**"
   ]
  },
  {
   "cell_type": "code",
   "execution_count": null,
   "metadata": {
    "execution": {
     "iopub.execute_input": "2022-10-05T16:03:55.601422Z",
     "iopub.status.busy": "2022-10-05T16:03:55.60089Z",
     "iopub.status.idle": "2022-10-05T16:03:55.632646Z",
     "shell.execute_reply": "2022-10-05T16:03:55.631357Z",
     "shell.execute_reply.started": "2022-10-05T16:03:55.60137Z"
    },
    "trusted": true
   },
   "outputs": [],
   "source": [
    "#average of column Daibetes_binary \n",
    "# 0 for non-Diabetic person and 1 for Diabetic person\n",
    "\n",
    "data2[\"Diabetes_binary\"].value_counts()"
   ]
  },
  {
   "cell_type": "code",
   "execution_count": null,
   "metadata": {
    "execution": {
     "iopub.execute_input": "2022-10-05T16:03:55.6348Z",
     "iopub.status.busy": "2022-10-05T16:03:55.634379Z",
     "iopub.status.idle": "2022-10-05T16:03:56.805366Z",
     "shell.execute_reply": "2022-10-05T16:03:56.804083Z",
     "shell.execute_reply.started": "2022-10-05T16:03:55.634761Z"
    },
    "trusted": true
   },
   "outputs": [],
   "source": [
    "#checking the value count of Diabetes_binary_str by using countplot\n",
    "figure1, plot1 = plt.subplots(1,2,figsize=(10,8))\n",
    "\n",
    "sns.countplot(data2['Diabetes_binary'],ax=plot1[0])\n",
    "\n",
    "\n",
    "#checking diabetic and non diabetic pepoles average by pie \n",
    "\n",
    "labels=[\"non-Diabetic\",\"Diabetic\"]\n",
    "\n",
    "plt.pie(data2[\"Diabetes_binary\"].value_counts() , labels =labels ,autopct='%.02f' );\n"
   ]
  },
  {
   "cell_type": "markdown",
   "metadata": {},
   "source": [
    "We can see that healthy people is more than people with diabetes "
   ]
  },
  {
   "cell_type": "markdown",
   "metadata": {},
   "source": [
    "_____________________________________________________________________________________________________________________"
   ]
  },
  {
   "cell_type": "markdown",
   "metadata": {},
   "source": [
    "**The feature \"Age\" and it's relation with the target**"
   ]
  },
  {
   "cell_type": "code",
   "execution_count": null,
   "metadata": {
    "execution": {
     "iopub.execute_input": "2022-10-05T16:03:56.807848Z",
     "iopub.status.busy": "2022-10-05T16:03:56.807455Z",
     "iopub.status.idle": "2022-10-05T16:03:57.100343Z",
     "shell.execute_reply": "2022-10-05T16:03:57.098934Z",
     "shell.execute_reply.started": "2022-10-05T16:03:56.807811Z"
    },
    "trusted": true
   },
   "outputs": [],
   "source": [
    "sns.boxplot(x = 'Diabetes_binary_str', y = 'Age', data = data)\n",
    "plt.title('Age vs Diabetes_binary_str')\n",
    "plt.show()"
   ]
  },
  {
   "cell_type": "code",
   "execution_count": null,
   "metadata": {
    "execution": {
     "iopub.execute_input": "2022-10-05T16:03:57.102373Z",
     "iopub.status.busy": "2022-10-05T16:03:57.101987Z",
     "iopub.status.idle": "2022-10-05T16:03:57.474647Z",
     "shell.execute_reply": "2022-10-05T16:03:57.473295Z",
     "shell.execute_reply.started": "2022-10-05T16:03:57.102335Z"
    },
    "trusted": true
   },
   "outputs": [],
   "source": [
    "pd.crosstab(data2.Age,data2.Diabetes_binary).plot(kind=\"bar\",figsize=(20,6))\n",
    "plt.title('Diabetes Disease Frequency for Ages')\n",
    "plt.xlabel('Age')\n",
    "plt.xticks(rotation=0)\n",
    "plt.ylabel('Frequency')\n",
    "plt.show()\n"
   ]
  },
  {
   "cell_type": "markdown",
   "metadata": {},
   "source": [
    "We know that as the age increases, the chances of diabetes also commonly increases. From above we can say, the median of the age of diabetic people is greater than that of non-diabetic people."
   ]
  },
  {
   "cell_type": "markdown",
   "metadata": {},
   "source": [
    "______________________________________________________________________________________________________________________"
   ]
  },
  {
   "cell_type": "markdown",
   "metadata": {},
   "source": [
    "**The feature \"Education\" and it's relation with the target**"
   ]
  },
  {
   "cell_type": "code",
   "execution_count": null,
   "metadata": {
    "execution": {
     "iopub.execute_input": "2022-10-05T16:03:57.478897Z",
     "iopub.status.busy": "2022-10-05T16:03:57.477736Z",
     "iopub.status.idle": "2022-10-05T16:03:58.981872Z",
     "shell.execute_reply": "2022-10-05T16:03:58.979186Z",
     "shell.execute_reply.started": "2022-10-05T16:03:57.478849Z"
    },
    "trusted": true
   },
   "outputs": [],
   "source": [
    "plt.figure(figsize=(10,6))\n",
    "\n",
    "\n",
    "sns.distplot(data.Education[data.Diabetes_binary == 0], color=\"y\", label=\"No Diabetic\" )\n",
    "sns.distplot(data.Education[data.Diabetes_binary == 1], color=\"m\", label=\"Diabetic\" )\n",
    "plt.title(\"Relation b/w Education and Diabetes\")\n",
    "\n",
    "plt.legend()"
   ]
  },
  {
   "cell_type": "markdown",
   "metadata": {},
   "source": [
    "We can see that most of people have high education and in the high level of education , the healthy people is more than others"
   ]
  },
  {
   "cell_type": "markdown",
   "metadata": {},
   "source": [
    "_____________________________________________________________________________________________________________________"
   ]
  },
  {
   "cell_type": "markdown",
   "metadata": {},
   "source": [
    "**The feature \"income\" and it's relation with the target**"
   ]
  },
  {
   "cell_type": "code",
   "execution_count": null,
   "metadata": {
    "execution": {
     "iopub.execute_input": "2022-10-05T16:03:58.99131Z",
     "iopub.status.busy": "2022-10-05T16:03:58.990889Z",
     "iopub.status.idle": "2022-10-05T16:04:00.554083Z",
     "shell.execute_reply": "2022-10-05T16:04:00.55266Z",
     "shell.execute_reply.started": "2022-10-05T16:03:58.991275Z"
    },
    "trusted": true
   },
   "outputs": [],
   "source": [
    "plt.figure(figsize=(20,10))\n",
    "\n",
    "sns.displot(data=data, x=\"Income\", hue=\"Diabetes_binary_str\", kind=\"kde\")\n",
    "plt.title(\"Relation b/w Income and Diabetes\")"
   ]
  },
  {
   "cell_type": "markdown",
   "metadata": {},
   "source": [
    "We can see that most of people have high income and in the high level of income , the healthy people is more than others"
   ]
  },
  {
   "cell_type": "markdown",
   "metadata": {},
   "source": [
    "______________________________________________________________________________________________________________________"
   ]
  },
  {
   "cell_type": "markdown",
   "metadata": {},
   "source": [
    "**The feature \"BMI\" and it's relation with the target**"
   ]
  },
  {
   "cell_type": "code",
   "execution_count": null,
   "metadata": {
    "execution": {
     "iopub.execute_input": "2022-10-05T16:04:00.556389Z",
     "iopub.status.busy": "2022-10-05T16:04:00.555927Z",
     "iopub.status.idle": "2022-10-05T16:04:02.06533Z",
     "shell.execute_reply": "2022-10-05T16:04:02.064087Z",
     "shell.execute_reply.started": "2022-10-05T16:04:00.556347Z"
    },
    "trusted": true
   },
   "outputs": [],
   "source": [
    "#count plot to see numbers of Diabetic and non Diabetic patient of Group two BMI \n",
    "\n",
    "plt.figure(figsize=(25, 15))\n",
    "\n",
    "sns.countplot(data.BMI[data.Diabetes_binary == 0], color=\"r\", label=\"No Diabetic\")\n",
    "sns.countplot(data.BMI[data.Diabetes_binary == 1], color=\"g\", label=\"Diabetic\")\n",
    "plt.title(\"Relation b/w BMI and Diabetes\")\n",
    "\n",
    "plt.legend()"
   ]
  },
  {
   "cell_type": "markdown",
   "metadata": {},
   "source": [
    "As we can see people range between 24-33 BMI have more likely to have Diabetic."
   ]
  },
  {
   "cell_type": "markdown",
   "metadata": {},
   "source": [
    "________________________________________________________________________________________________________________________"
   ]
  },
  {
   "cell_type": "markdown",
   "metadata": {},
   "source": [
    "**The feature \"MentHlth\" and it's relation with the target**"
   ]
  },
  {
   "cell_type": "code",
   "execution_count": null,
   "metadata": {
    "execution": {
     "iopub.execute_input": "2022-10-05T16:04:02.067388Z",
     "iopub.status.busy": "2022-10-05T16:04:02.066906Z",
     "iopub.status.idle": "2022-10-05T16:04:02.626322Z",
     "shell.execute_reply": "2022-10-05T16:04:02.625153Z",
     "shell.execute_reply.started": "2022-10-05T16:04:02.067349Z"
    },
    "trusted": true
   },
   "outputs": [],
   "source": [
    "pd.crosstab(data.MentHlth,data.Diabetes_binary_str).plot(kind=\"bar\",figsize=(30,12),color=['#1CA53B', '#FFA500' ])\n",
    "plt.title('Diabetes Disease Frequency for MentHlth')\n",
    "plt.xlabel('MentHlth')\n",
    "plt.xticks(rotation=0)\n",
    "plt.ylabel('Frequency')\n",
    "plt.show()"
   ]
  },
  {
   "cell_type": "markdown",
   "metadata": {},
   "source": [
    "From figure we can say that Menthlth Group 0-5 have impact on Diabetic"
   ]
  },
  {
   "cell_type": "markdown",
   "metadata": {},
   "source": [
    "____________________________________________________________________________________________________________________"
   ]
  },
  {
   "cell_type": "markdown",
   "metadata": {},
   "source": [
    "**The feature \"PhysHlth\" and it's relation with the target**"
   ]
  },
  {
   "cell_type": "code",
   "execution_count": null,
   "metadata": {
    "execution": {
     "iopub.execute_input": "2022-10-05T16:04:02.629013Z",
     "iopub.status.busy": "2022-10-05T16:04:02.628212Z",
     "iopub.status.idle": "2022-10-05T16:04:03.186463Z",
     "shell.execute_reply": "2022-10-05T16:04:03.185257Z",
     "shell.execute_reply.started": "2022-10-05T16:04:02.628965Z"
    },
    "trusted": true
   },
   "outputs": [],
   "source": [
    "pd.crosstab(data.PhysHlth,data.Diabetes_binary_str).plot(kind=\"bar\",figsize=(30,12),color=['Blue', 'Red' ])\n",
    "plt.title('Diabetes Disease Frequency for PhysHlth')\n",
    "plt.xlabel('PhysHlth')\n",
    "plt.xticks(rotation=0)\n",
    "plt.ylabel('Frequency')\n",
    "plt.show()"
   ]
  },
  {
   "cell_type": "markdown",
   "metadata": {},
   "source": [
    "From figure we can say that PhysHlth Group 0-5 have impact on Diabetic"
   ]
  },
  {
   "cell_type": "markdown",
   "metadata": {},
   "source": [
    "______________________________________________________________________________________________________________________"
   ]
  },
  {
   "cell_type": "markdown",
   "metadata": {},
   "source": [
    "**The feature \"GenHlth\" and it's relation with the target**"
   ]
  },
  {
   "cell_type": "code",
   "execution_count": null,
   "metadata": {
    "execution": {
     "iopub.execute_input": "2022-10-05T16:04:03.189104Z",
     "iopub.status.busy": "2022-10-05T16:04:03.187898Z",
     "iopub.status.idle": "2022-10-05T16:04:03.526709Z",
     "shell.execute_reply": "2022-10-05T16:04:03.52572Z",
     "shell.execute_reply.started": "2022-10-05T16:04:03.189052Z"
    },
    "trusted": true
   },
   "outputs": [],
   "source": [
    "pd.crosstab(data.GenHlth,data.Diabetes_binary).plot(kind=\"bar\",figsize=(30,12),color=['Purple', 'Green' ])\n",
    "plt.title('Diabetes Disease Frequency for GenHlth')\n",
    "plt.xlabel('GenHlth')\n",
    "plt.xticks(rotation=0)\n",
    "plt.ylabel('Frequency')\n",
    "plt.show()"
   ]
  },
  {
   "cell_type": "markdown",
   "metadata": {},
   "source": [
    "not many peolpe have \"5\" and \"4\" of GenHlth  ,but they have diabetes !!!"
   ]
  },
  {
   "cell_type": "markdown",
   "metadata": {},
   "source": [
    "_________________________________________________________________________________________________________________"
   ]
  },
  {
   "cell_type": "markdown",
   "metadata": {},
   "source": [
    "# Feature Selections"
   ]
  },
  {
   "cell_type": "markdown",
   "metadata": {},
   "source": [
    "__________________________________________________________________________________________________________________"
   ]
  },
  {
   "cell_type": "markdown",
   "metadata": {},
   "source": [
    "**With correlation**"
   ]
  },
  {
   "cell_type": "code",
   "execution_count": null,
   "metadata": {
    "execution": {
     "iopub.execute_input": "2022-10-05T16:04:03.529412Z",
     "iopub.status.busy": "2022-10-05T16:04:03.528244Z",
     "iopub.status.idle": "2022-10-05T16:04:03.98014Z",
     "shell.execute_reply": "2022-10-05T16:04:03.978678Z",
     "shell.execute_reply.started": "2022-10-05T16:04:03.529373Z"
    },
    "trusted": true
   },
   "outputs": [],
   "source": [
    "data.drop('Diabetes_binary', axis=1).corrwith(data.Diabetes_binary).plot(kind='bar', grid=True, figsize=(20, 8)\n",
    ", title=\"Correlation with Diabetes_binary\",color=\"Purple\");"
   ]
  },
  {
   "cell_type": "markdown",
   "metadata": {},
   "source": [
    "**Diabetes_binary's relation with other columns Through bar Graph Result:**\n",
    "\n",
    "1. Fruits , AnyHealthcare , NoDocbccost and sex are least correlated with Diabetes_binary.\n",
    "\n",
    "2. HighBP , HighChol , BMI , smoker , stroke , HeartDiseaseorAttack , PhysActivity , Veggies , MentHlth , HvyAlcoholconsump , GenHlth , PhysHlth , Age , Education , Income and DiffWalk have a significant correlation with Diabetes_binary."
   ]
  },
  {
   "cell_type": "markdown",
   "metadata": {},
   "source": [
    "_______________________________________________________________________________________________________________________________"
   ]
  },
  {
   "cell_type": "markdown",
   "metadata": {},
   "source": [
    "**VIF Test**"
   ]
  },
  {
   "cell_type": "code",
   "execution_count": null,
   "metadata": {
    "execution": {
     "iopub.execute_input": "2022-10-05T16:04:03.982222Z",
     "iopub.status.busy": "2022-10-05T16:04:03.981774Z",
     "iopub.status.idle": "2022-10-05T16:04:15.068516Z",
     "shell.execute_reply": "2022-10-05T16:04:15.067167Z",
     "shell.execute_reply.started": "2022-10-05T16:04:03.982186Z"
    },
    "trusted": true
   },
   "outputs": [],
   "source": [
    "\n",
    "\n",
    "def calc_VIF(x):\n",
    "    vif= pd.DataFrame()\n",
    "    vif['variables']=x.columns\n",
    "    vif[\"VIF\"]=[variance_inflation_factor(x.values,i) for i in range(x.shape[1])]\n",
    "\n",
    "    return(vif)\n",
    "\n",
    "\n",
    "X = add_constant(Orginal_data)  \n",
    "ds=pd.Series([variance_inflation_factor(X.values, i) for i in range(X.shape[1])],index=X.columns)  \n",
    "print(ds)"
   ]
  },
  {
   "cell_type": "markdown",
   "metadata": {},
   "source": [
    "___________________________________________________________________________________________________"
   ]
  },
  {
   "cell_type": "markdown",
   "metadata": {},
   "source": [
    "**ANOVA Test**"
   ]
  },
  {
   "cell_type": "code",
   "execution_count": null,
   "metadata": {
    "execution": {
     "iopub.execute_input": "2022-10-05T16:04:15.070744Z",
     "iopub.status.busy": "2022-10-05T16:04:15.070137Z",
     "iopub.status.idle": "2022-10-05T16:04:15.078322Z",
     "shell.execute_reply": "2022-10-05T16:04:15.076763Z",
     "shell.execute_reply.started": "2022-10-05T16:04:15.070695Z"
    },
    "trusted": true
   },
   "outputs": [],
   "source": [
    "X = Orginal_data.iloc[:,1:]\n",
    "Y = Orginal_data.iloc[:,0]"
   ]
  },
  {
   "cell_type": "code",
   "execution_count": null,
   "metadata": {
    "execution": {
     "iopub.execute_input": "2022-10-05T16:04:15.080553Z",
     "iopub.status.busy": "2022-10-05T16:04:15.079806Z",
     "iopub.status.idle": "2022-10-05T16:04:15.230755Z",
     "shell.execute_reply": "2022-10-05T16:04:15.228455Z",
     "shell.execute_reply.started": "2022-10-05T16:04:15.080503Z"
    },
    "trusted": true
   },
   "outputs": [],
   "source": [
    "# ANOVA feature selection for numeric input and categorical output\n",
    "\n",
    "\n",
    "# define feature selection\n",
    "fs = SelectKBest(score_func=f_classif, k=10)\n",
    "# apply feature selection\n",
    "X_selected = fs.fit_transform(X, Y)\n",
    "print(X_selected.shape)"
   ]
  },
  {
   "cell_type": "code",
   "execution_count": null,
   "metadata": {
    "execution": {
     "iopub.execute_input": "2022-10-05T16:04:15.23281Z",
     "iopub.status.busy": "2022-10-05T16:04:15.232315Z",
     "iopub.status.idle": "2022-10-05T16:04:15.25556Z",
     "shell.execute_reply": "2022-10-05T16:04:15.2546Z",
     "shell.execute_reply.started": "2022-10-05T16:04:15.232763Z"
    },
    "scrolled": true,
    "trusted": true
   },
   "outputs": [],
   "source": [
    "pd.DataFrame(X_selected).head(3)"
   ]
  },
  {
   "cell_type": "markdown",
   "metadata": {},
   "source": [
    "________________________________________________________________________________________________________________"
   ]
  },
  {
   "cell_type": "markdown",
   "metadata": {},
   "source": [
    "**Chi Square**"
   ]
  },
  {
   "cell_type": "code",
   "execution_count": null,
   "metadata": {
    "execution": {
     "iopub.execute_input": "2022-10-05T16:04:15.257387Z",
     "iopub.status.busy": "2022-10-05T16:04:15.256974Z",
     "iopub.status.idle": "2022-10-05T16:04:15.374888Z",
     "shell.execute_reply": "2022-10-05T16:04:15.373368Z",
     "shell.execute_reply.started": "2022-10-05T16:04:15.25735Z"
    },
    "trusted": true
   },
   "outputs": [],
   "source": [
    "#apply SelectKBest class to extract top 10 best features\n",
    "BestFeatures = SelectKBest(score_func=chi2, k=10)\n",
    "fit = BestFeatures.fit(X,Y)\n",
    "\n",
    "df_scores = pd.DataFrame(fit.scores_)\n",
    "df_columns = pd.DataFrame(X.columns)\n",
    "\n",
    "#concatenating two dataframes for better visualization\n",
    "f_Scores = pd.concat([df_columns,df_scores],axis=1)               # feature scores\n",
    "f_Scores.columns = ['Feature','Score']\n",
    "\n",
    "f_Scores"
   ]
  },
  {
   "cell_type": "code",
   "execution_count": null,
   "metadata": {
    "execution": {
     "iopub.execute_input": "2022-10-05T16:04:15.377012Z",
     "iopub.status.busy": "2022-10-05T16:04:15.376523Z",
     "iopub.status.idle": "2022-10-05T16:04:15.39741Z",
     "shell.execute_reply": "2022-10-05T16:04:15.395483Z",
     "shell.execute_reply.started": "2022-10-05T16:04:15.376962Z"
    },
    "trusted": true
   },
   "outputs": [],
   "source": [
    "print(f_Scores.nlargest(16,'Score'))"
   ]
  },
  {
   "cell_type": "code",
   "execution_count": null,
   "metadata": {
    "execution": {
     "iopub.execute_input": "2022-10-05T16:04:15.399838Z",
     "iopub.status.busy": "2022-10-05T16:04:15.399081Z",
     "iopub.status.idle": "2022-10-05T16:04:15.408911Z",
     "shell.execute_reply": "2022-10-05T16:04:15.407298Z",
     "shell.execute_reply.started": "2022-10-05T16:04:15.399787Z"
    },
    "trusted": true
   },
   "outputs": [],
   "source": [
    "#there are the features which we will use in our model"
   ]
  },
  {
   "cell_type": "markdown",
   "metadata": {},
   "source": [
    "We will use those features in our model"
   ]
  },
  {
   "cell_type": "markdown",
   "metadata": {},
   "source": [
    "\"Fruits\" , \"Veggies\" , \"Sex\" , \"CholCheck\" , \" AnyHealthcare\" will not be with us "
   ]
  },
  {
   "cell_type": "code",
   "execution_count": null,
   "metadata": {
    "execution": {
     "iopub.execute_input": "2022-10-05T16:04:15.411254Z",
     "iopub.status.busy": "2022-10-05T16:04:15.410672Z",
     "iopub.status.idle": "2022-10-05T16:04:15.423395Z",
     "shell.execute_reply": "2022-10-05T16:04:15.421694Z",
     "shell.execute_reply.started": "2022-10-05T16:04:15.411205Z"
    },
    "trusted": true
   },
   "outputs": [],
   "source": [
    "colomns = [\"Fruits\" , \"Veggies\" , \"Sex\" , \"CholCheck\" , \"AnyHealthcare\" , \"Diabetes_binary_str\"]"
   ]
  },
  {
   "cell_type": "code",
   "execution_count": null,
   "metadata": {
    "execution": {
     "iopub.execute_input": "2022-10-05T16:04:15.425825Z",
     "iopub.status.busy": "2022-10-05T16:04:15.425186Z",
     "iopub.status.idle": "2022-10-05T16:04:15.448964Z",
     "shell.execute_reply": "2022-10-05T16:04:15.447206Z",
     "shell.execute_reply.started": "2022-10-05T16:04:15.425771Z"
    },
    "trusted": true
   },
   "outputs": [],
   "source": [
    "data.drop(colomns , axis= 1 ,inplace=True)"
   ]
  },
  {
   "cell_type": "markdown",
   "metadata": {},
   "source": [
    "________________________________________________________________________________________________________________________"
   ]
  },
  {
   "cell_type": "markdown",
   "metadata": {},
   "source": [
    "# Data Splitting "
   ]
  },
  {
   "cell_type": "code",
   "execution_count": null,
   "metadata": {
    "execution": {
     "iopub.execute_input": "2022-10-05T16:04:15.452261Z",
     "iopub.status.busy": "2022-10-05T16:04:15.451318Z",
     "iopub.status.idle": "2022-10-05T16:04:15.467102Z",
     "shell.execute_reply": "2022-10-05T16:04:15.465815Z",
     "shell.execute_reply.started": "2022-10-05T16:04:15.452208Z"
    },
    "trusted": true
   },
   "outputs": [],
   "source": [
    "X=data.drop(\"Diabetes_binary\",axis=1)\n",
    "Y=data[\"Diabetes_binary\"]"
   ]
  },
  {
   "cell_type": "markdown",
   "metadata": {},
   "source": [
    "______________________________________________________________________________________________________"
   ]
  },
  {
   "cell_type": "markdown",
   "metadata": {},
   "source": [
    "# Dealing with imbalancing"
   ]
  },
  {
   "cell_type": "code",
   "execution_count": null,
   "metadata": {
    "execution": {
     "iopub.execute_input": "2022-10-05T16:04:15.470861Z",
     "iopub.status.busy": "2022-10-05T16:04:15.469913Z",
     "iopub.status.idle": "2022-10-05T16:04:15.483537Z",
     "shell.execute_reply": "2022-10-05T16:04:15.482084Z",
     "shell.execute_reply.started": "2022-10-05T16:04:15.470805Z"
    },
    "trusted": true
   },
   "outputs": [],
   "source": [
    "Y.value_counts()"
   ]
  },
  {
   "cell_type": "code",
   "execution_count": null,
   "metadata": {
    "execution": {
     "iopub.execute_input": "2022-10-05T16:04:15.486512Z",
     "iopub.status.busy": "2022-10-05T16:04:15.485334Z",
     "iopub.status.idle": "2022-10-05T16:06:43.774634Z",
     "shell.execute_reply": "2022-10-05T16:06:43.773242Z",
     "shell.execute_reply.started": "2022-10-05T16:04:15.48646Z"
    },
    "trusted": true
   },
   "outputs": [],
   "source": [
    "from imblearn.under_sampling import NearMiss\n",
    "nm = NearMiss(version = 1 , n_neighbors = 10)\n",
    "\n",
    "x_sm,y_sm= nm.fit_resample(X,Y)"
   ]
  },
  {
   "cell_type": "code",
   "execution_count": null,
   "metadata": {
    "execution": {
     "iopub.execute_input": "2022-10-05T16:06:43.776835Z",
     "iopub.status.busy": "2022-10-05T16:06:43.776331Z",
     "iopub.status.idle": "2022-10-05T16:06:43.786236Z",
     "shell.execute_reply": "2022-10-05T16:06:43.785147Z",
     "shell.execute_reply.started": "2022-10-05T16:06:43.776784Z"
    },
    "trusted": true
   },
   "outputs": [],
   "source": [
    "y_sm.shape , x_sm.shape"
   ]
  },
  {
   "cell_type": "code",
   "execution_count": null,
   "metadata": {
    "execution": {
     "iopub.execute_input": "2022-10-05T16:06:43.788129Z",
     "iopub.status.busy": "2022-10-05T16:06:43.78755Z",
     "iopub.status.idle": "2022-10-05T16:06:43.806173Z",
     "shell.execute_reply": "2022-10-05T16:06:43.804916Z",
     "shell.execute_reply.started": "2022-10-05T16:06:43.788092Z"
    },
    "trusted": true
   },
   "outputs": [],
   "source": [
    "y_sm.value_counts()"
   ]
  },
  {
   "cell_type": "code",
   "execution_count": null,
   "metadata": {
    "execution": {
     "iopub.execute_input": "2022-10-05T16:06:43.808515Z",
     "iopub.status.busy": "2022-10-05T16:06:43.807808Z",
     "iopub.status.idle": "2022-10-05T16:06:43.836314Z",
     "shell.execute_reply": "2022-10-05T16:06:43.835317Z",
     "shell.execute_reply.started": "2022-10-05T16:06:43.808447Z"
    },
    "trusted": true
   },
   "outputs": [],
   "source": [
    "X_train , X_test , Y_train , Y_test = train_test_split(x_sm,y_sm, test_size=0.3 , random_state=42)"
   ]
  },
  {
   "cell_type": "code",
   "execution_count": null,
   "metadata": {},
   "outputs": [],
   "source": []
  },
  {
   "cell_type": "markdown",
   "metadata": {},
   "source": [
    "_______________________________________________________________________________________________________________________"
   ]
  },
  {
   "cell_type": "markdown",
   "metadata": {},
   "source": [
    "# Data Scalling"
   ]
  },
  {
   "cell_type": "code",
   "execution_count": null,
   "metadata": {
    "execution": {
     "iopub.execute_input": "2022-10-05T16:06:43.838316Z",
     "iopub.status.busy": "2022-10-05T16:06:43.837857Z",
     "iopub.status.idle": "2022-10-05T16:06:43.864694Z",
     "shell.execute_reply": "2022-10-05T16:06:43.863672Z",
     "shell.execute_reply.started": "2022-10-05T16:06:43.838271Z"
    },
    "trusted": true
   },
   "outputs": [],
   "source": [
    "from sklearn.preprocessing import StandardScaler\n",
    "scalar = StandardScaler()\n",
    "X_train = scalar.fit_transform(X_train)\n",
    "X_test = scalar.fit_transform(X_test)"
   ]
  },
  {
   "cell_type": "markdown",
   "metadata": {},
   "source": [
    "_________________________________________________________________________________________________________________"
   ]
  },
  {
   "cell_type": "markdown",
   "metadata": {},
   "source": [
    "# Modeling"
   ]
  },
  {
   "cell_type": "markdown",
   "metadata": {},
   "source": [
    "____________________________________________________________________________________________________"
   ]
  },
  {
   "cell_type": "markdown",
   "metadata": {},
   "source": [
    "**Logistic**"
   ]
  },
  {
   "cell_type": "code",
   "execution_count": null,
   "metadata": {
    "execution": {
     "iopub.execute_input": "2022-10-05T16:06:43.866674Z",
     "iopub.status.busy": "2022-10-05T16:06:43.866334Z",
     "iopub.status.idle": "2022-10-05T16:06:44.046193Z",
     "shell.execute_reply": "2022-10-05T16:06:44.044946Z",
     "shell.execute_reply.started": "2022-10-05T16:06:43.866643Z"
    },
    "trusted": true
   },
   "outputs": [],
   "source": [
    "lg = LogisticRegression(max_iter = 1500)\n",
    "lg.fit(X_train , Y_train)"
   ]
  },
  {
   "cell_type": "code",
   "execution_count": null,
   "metadata": {
    "execution": {
     "iopub.execute_input": "2022-10-05T16:06:44.048951Z",
     "iopub.status.busy": "2022-10-05T16:06:44.048112Z",
     "iopub.status.idle": "2022-10-05T16:06:44.075734Z",
     "shell.execute_reply": "2022-10-05T16:06:44.074412Z",
     "shell.execute_reply.started": "2022-10-05T16:06:44.048904Z"
    },
    "trusted": true
   },
   "outputs": [],
   "source": [
    "# make predictions on test set\n",
    "y_pred=lg.predict(X_test)\n",
    "\n",
    "print('Training set score: {:.4f}'.format(lg.score(X_train, Y_train)))\n",
    "\n",
    "print('Test set score: {:.4f}'.format(lg.score(X_test, Y_test)))"
   ]
  },
  {
   "cell_type": "code",
   "execution_count": null,
   "metadata": {
    "execution": {
     "iopub.execute_input": "2022-10-05T16:06:44.078768Z",
     "iopub.status.busy": "2022-10-05T16:06:44.077873Z",
     "iopub.status.idle": "2022-10-05T16:06:44.088619Z",
     "shell.execute_reply": "2022-10-05T16:06:44.087389Z",
     "shell.execute_reply.started": "2022-10-05T16:06:44.078717Z"
    },
    "trusted": true
   },
   "outputs": [],
   "source": [
    "#check MSE & RMSE \n",
    "mse =mean_squared_error(Y_test, y_pred)\n",
    "print('Mean Squared Error : '+ str(mse))\n",
    "rmse = math.sqrt(mean_squared_error(Y_test, y_pred))\n",
    "print('Root Mean Squared Error : '+ str(rmse))"
   ]
  },
  {
   "cell_type": "code",
   "execution_count": null,
   "metadata": {
    "execution": {
     "iopub.execute_input": "2022-10-05T16:06:44.091751Z",
     "iopub.status.busy": "2022-10-05T16:06:44.090826Z",
     "iopub.status.idle": "2022-10-05T16:06:44.166796Z",
     "shell.execute_reply": "2022-10-05T16:06:44.165576Z",
     "shell.execute_reply.started": "2022-10-05T16:06:44.091703Z"
    },
    "trusted": true
   },
   "outputs": [],
   "source": [
    "matrix = classification_report(Y_test,y_pred )\n",
    "print(matrix)"
   ]
  },
  {
   "cell_type": "code",
   "execution_count": null,
   "metadata": {
    "execution": {
     "iopub.execute_input": "2022-10-05T16:06:44.169664Z",
     "iopub.status.busy": "2022-10-05T16:06:44.168827Z",
     "iopub.status.idle": "2022-10-05T16:06:44.413361Z",
     "shell.execute_reply": "2022-10-05T16:06:44.412532Z",
     "shell.execute_reply.started": "2022-10-05T16:06:44.169601Z"
    },
    "trusted": true
   },
   "outputs": [],
   "source": [
    "# calculating and plotting the confusion matrix\n",
    "cm1 = confusion_matrix(Y_test,y_pred)\n",
    "plot_confusion_matrix(conf_mat=cm1,show_absolute=True,\n",
    "                                show_normed=True,\n",
    "                                colorbar=True)\n",
    "plt.show()"
   ]
  },
  {
   "cell_type": "markdown",
   "metadata": {},
   "source": [
    "**Desicion Tree model**"
   ]
  },
  {
   "cell_type": "code",
   "execution_count": null,
   "metadata": {
    "execution": {
     "iopub.execute_input": "2022-10-05T16:06:44.414966Z",
     "iopub.status.busy": "2022-10-05T16:06:44.41459Z",
     "iopub.status.idle": "2022-10-05T16:06:44.562862Z",
     "shell.execute_reply": "2022-10-05T16:06:44.561712Z",
     "shell.execute_reply.started": "2022-10-05T16:06:44.414934Z"
    },
    "trusted": true
   },
   "outputs": [],
   "source": [
    "dt = DecisionTreeClassifier( max_depth= 12)\n",
    "dt.fit(X_train , Y_train)"
   ]
  },
  {
   "cell_type": "code",
   "execution_count": null,
   "metadata": {
    "execution": {
     "iopub.execute_input": "2022-10-05T16:06:44.564705Z",
     "iopub.status.busy": "2022-10-05T16:06:44.564249Z",
     "iopub.status.idle": "2022-10-05T16:06:44.592955Z",
     "shell.execute_reply": "2022-10-05T16:06:44.591696Z",
     "shell.execute_reply.started": "2022-10-05T16:06:44.564662Z"
    },
    "trusted": true
   },
   "outputs": [],
   "source": [
    "# make predictions on test set\n",
    "y_pred=dt.predict(X_test)\n",
    "\n",
    "print('Training set score: {:.4f}'.format(dt.score(X_train, Y_train)))\n",
    "\n",
    "print('Test set score: {:.4f}'.format(dt.score(X_test, Y_test)))"
   ]
  },
  {
   "cell_type": "code",
   "execution_count": null,
   "metadata": {
    "execution": {
     "iopub.execute_input": "2022-10-05T16:06:44.594723Z",
     "iopub.status.busy": "2022-10-05T16:06:44.594344Z",
     "iopub.status.idle": "2022-10-05T16:06:44.602198Z",
     "shell.execute_reply": "2022-10-05T16:06:44.601121Z",
     "shell.execute_reply.started": "2022-10-05T16:06:44.594687Z"
    },
    "trusted": true
   },
   "outputs": [],
   "source": [
    "#check MSE & RMSE \n",
    "mse =mean_squared_error(Y_test, y_pred)\n",
    "print('Mean Squared Error : '+ str(mse))\n",
    "rmse = math.sqrt(mean_squared_error(Y_test, y_pred))\n",
    "print('Root Mean Squared Error : '+ str(rmse))"
   ]
  },
  {
   "cell_type": "code",
   "execution_count": null,
   "metadata": {
    "execution": {
     "iopub.execute_input": "2022-10-05T16:06:44.605013Z",
     "iopub.status.busy": "2022-10-05T16:06:44.603959Z",
     "iopub.status.idle": "2022-10-05T16:06:44.658372Z",
     "shell.execute_reply": "2022-10-05T16:06:44.657068Z",
     "shell.execute_reply.started": "2022-10-05T16:06:44.604977Z"
    },
    "trusted": true
   },
   "outputs": [],
   "source": [
    "matrix = classification_report(Y_test,y_pred )\n",
    "print(matrix)"
   ]
  },
  {
   "cell_type": "code",
   "execution_count": null,
   "metadata": {
    "execution": {
     "iopub.execute_input": "2022-10-05T16:06:44.660774Z",
     "iopub.status.busy": "2022-10-05T16:06:44.660066Z",
     "iopub.status.idle": "2022-10-05T16:06:44.882824Z",
     "shell.execute_reply": "2022-10-05T16:06:44.88156Z",
     "shell.execute_reply.started": "2022-10-05T16:06:44.660726Z"
    },
    "trusted": true
   },
   "outputs": [],
   "source": [
    "# calculating and plotting the confusion matrix\n",
    "cm1 = confusion_matrix(Y_test,y_pred)\n",
    "plot_confusion_matrix(conf_mat=cm1,show_absolute=True,\n",
    "                                show_normed=True,\n",
    "                                colorbar=True)\n",
    "plt.show()"
   ]
  },
  {
   "cell_type": "markdown",
   "metadata": {},
   "source": [
    "**KNN**"
   ]
  },
  {
   "cell_type": "code",
   "execution_count": null,
   "metadata": {
    "execution": {
     "iopub.execute_input": "2022-10-05T16:06:44.884514Z",
     "iopub.status.busy": "2022-10-05T16:06:44.884174Z",
     "iopub.status.idle": "2022-10-05T16:06:44.895983Z",
     "shell.execute_reply": "2022-10-05T16:06:44.895084Z",
     "shell.execute_reply.started": "2022-10-05T16:06:44.884482Z"
    },
    "trusted": true
   },
   "outputs": [],
   "source": [
    "knn = KNeighborsClassifier(n_neighbors= 6 )\n",
    "knn.fit(X_train , Y_train)"
   ]
  },
  {
   "cell_type": "code",
   "execution_count": null,
   "metadata": {
    "execution": {
     "iopub.execute_input": "2022-10-05T16:06:44.898126Z",
     "iopub.status.busy": "2022-10-05T16:06:44.897215Z",
     "iopub.status.idle": "2022-10-05T16:08:13.282395Z",
     "shell.execute_reply": "2022-10-05T16:08:13.280986Z",
     "shell.execute_reply.started": "2022-10-05T16:06:44.898092Z"
    },
    "trusted": true
   },
   "outputs": [],
   "source": [
    "# make predictions on test set\n",
    "y_pred=knn.predict(X_test)\n",
    "\n",
    "print('Training set score: {:.4f}'.format(knn.score(X_train, Y_train)))\n",
    "\n",
    "print('Test set score: {:.4f}'.format(knn.score(X_test, Y_test)))"
   ]
  },
  {
   "cell_type": "code",
   "execution_count": null,
   "metadata": {
    "execution": {
     "iopub.execute_input": "2022-10-05T16:08:13.284345Z",
     "iopub.status.busy": "2022-10-05T16:08:13.283992Z",
     "iopub.status.idle": "2022-10-05T16:08:13.292951Z",
     "shell.execute_reply": "2022-10-05T16:08:13.291601Z",
     "shell.execute_reply.started": "2022-10-05T16:08:13.284304Z"
    },
    "trusted": true
   },
   "outputs": [],
   "source": [
    "#check MSE & RMSE \n",
    "mse =mean_squared_error(Y_test, y_pred)\n",
    "print('Mean Squared Error : '+ str(mse))\n",
    "rmse = math.sqrt(mean_squared_error(Y_test, y_pred))\n",
    "print('Root Mean Squared Error : '+ str(rmse))"
   ]
  },
  {
   "cell_type": "code",
   "execution_count": null,
   "metadata": {
    "execution": {
     "iopub.execute_input": "2022-10-05T16:08:13.295405Z",
     "iopub.status.busy": "2022-10-05T16:08:13.294835Z",
     "iopub.status.idle": "2022-10-05T16:08:13.349168Z",
     "shell.execute_reply": "2022-10-05T16:08:13.347725Z",
     "shell.execute_reply.started": "2022-10-05T16:08:13.29536Z"
    },
    "trusted": true
   },
   "outputs": [],
   "source": [
    "matrix = classification_report(Y_test,y_pred )\n",
    "print(matrix)"
   ]
  },
  {
   "cell_type": "code",
   "execution_count": null,
   "metadata": {
    "execution": {
     "iopub.execute_input": "2022-10-05T16:08:13.351982Z",
     "iopub.status.busy": "2022-10-05T16:08:13.350926Z",
     "iopub.status.idle": "2022-10-05T16:08:13.577378Z",
     "shell.execute_reply": "2022-10-05T16:08:13.576423Z",
     "shell.execute_reply.started": "2022-10-05T16:08:13.351939Z"
    },
    "trusted": true
   },
   "outputs": [],
   "source": [
    "# calculating and plotting the confusion matrix\n",
    "cm1 = confusion_matrix(Y_test,y_pred)\n",
    "plot_confusion_matrix(conf_mat=cm1,show_absolute=True,\n",
    "                                show_normed=True,\n",
    "                                colorbar=True)\n",
    "plt.show()"
   ]
  },
  {
   "cell_type": "markdown",
   "metadata": {},
   "source": [
    "**Rondom Forest**"
   ]
  },
  {
   "cell_type": "code",
   "execution_count": null,
   "metadata": {
    "execution": {
     "iopub.execute_input": "2022-10-05T16:08:13.579174Z",
     "iopub.status.busy": "2022-10-05T16:08:13.578825Z",
     "iopub.status.idle": "2022-10-05T16:08:13.958006Z",
     "shell.execute_reply": "2022-10-05T16:08:13.956525Z",
     "shell.execute_reply.started": "2022-10-05T16:08:13.579141Z"
    },
    "trusted": true
   },
   "outputs": [],
   "source": [
    "rf = RandomForestClassifier(max_depth=12 ,n_estimators =10, random_state=42 )\n",
    "\n",
    "# fitting the model on the train data\n",
    "rf.fit(X_train, Y_train)\n"
   ]
  },
  {
   "cell_type": "code",
   "execution_count": null,
   "metadata": {
    "execution": {
     "iopub.execute_input": "2022-10-05T16:08:13.960593Z",
     "iopub.status.busy": "2022-10-05T16:08:13.959939Z",
     "iopub.status.idle": "2022-10-05T16:08:14.088872Z",
     "shell.execute_reply": "2022-10-05T16:08:14.087657Z",
     "shell.execute_reply.started": "2022-10-05T16:08:13.960557Z"
    },
    "trusted": true
   },
   "outputs": [],
   "source": [
    "# make predictions on test set\n",
    "y_pred=rf.predict(X_test)\n",
    "\n",
    "print('Training set score: {:.4f}'.format(rf.score(X_train, Y_train)))\n",
    "\n",
    "print('Test set score: {:.4f}'.format(rf.score(X_test, Y_test)))"
   ]
  },
  {
   "cell_type": "code",
   "execution_count": null,
   "metadata": {
    "execution": {
     "iopub.execute_input": "2022-10-05T16:08:14.090474Z",
     "iopub.status.busy": "2022-10-05T16:08:14.090146Z",
     "iopub.status.idle": "2022-10-05T16:08:14.100807Z",
     "shell.execute_reply": "2022-10-05T16:08:14.099917Z",
     "shell.execute_reply.started": "2022-10-05T16:08:14.090443Z"
    },
    "trusted": true
   },
   "outputs": [],
   "source": [
    "#check MSE & RMSE \n",
    "mse =mean_squared_error(Y_test, y_pred)\n",
    "print('Mean Squared Error : '+ str(mse))\n",
    "rmse = math.sqrt(mean_squared_error(Y_test, y_pred))\n",
    "print('Root Mean Squared Error : '+ str(rmse))"
   ]
  },
  {
   "cell_type": "code",
   "execution_count": null,
   "metadata": {
    "execution": {
     "iopub.execute_input": "2022-10-05T16:08:14.10288Z",
     "iopub.status.busy": "2022-10-05T16:08:14.102004Z",
     "iopub.status.idle": "2022-10-05T16:08:14.162379Z",
     "shell.execute_reply": "2022-10-05T16:08:14.161203Z",
     "shell.execute_reply.started": "2022-10-05T16:08:14.102843Z"
    },
    "trusted": true
   },
   "outputs": [],
   "source": [
    "matrix = classification_report(Y_test,y_pred )\n",
    "print(matrix)"
   ]
  },
  {
   "cell_type": "code",
   "execution_count": null,
   "metadata": {
    "execution": {
     "iopub.execute_input": "2022-10-05T16:08:14.164012Z",
     "iopub.status.busy": "2022-10-05T16:08:14.163668Z",
     "iopub.status.idle": "2022-10-05T16:08:14.383755Z",
     "shell.execute_reply": "2022-10-05T16:08:14.382475Z",
     "shell.execute_reply.started": "2022-10-05T16:08:14.16398Z"
    },
    "trusted": true
   },
   "outputs": [],
   "source": [
    "# calculating and plotting the confusion matrix\n",
    "cm1 = confusion_matrix(Y_test,y_pred)\n",
    "plot_confusion_matrix(conf_mat=cm1,show_absolute=True,\n",
    "                                show_normed=True,\n",
    "                                colorbar=True)\n",
    "plt.show()"
   ]
  },
  {
   "cell_type": "markdown",
   "metadata": {},
   "source": [
    "**SVM**"
   ]
  },
  {
   "cell_type": "code",
   "execution_count": null,
   "metadata": {
    "execution": {
     "iopub.execute_input": "2022-10-05T16:08:14.385809Z",
     "iopub.status.busy": "2022-10-05T16:08:14.38543Z",
     "iopub.status.idle": "2022-10-05T16:10:46.690459Z",
     "shell.execute_reply": "2022-10-05T16:10:46.688879Z",
     "shell.execute_reply.started": "2022-10-05T16:08:14.385774Z"
    },
    "trusted": true
   },
   "outputs": [],
   "source": [
    "from sklearn.svm import SVC\n",
    "\n",
    "# define the model\n",
    "clf = SVC(kernel='rbf', C=1.0)\n",
    "\n",
    "# train the model\n",
    "clf.fit(X_train, Y_train)\n",
    "\n",
    "y_pred=clf.predict(X_test)\n",
    "\n",
    "print('Training set score: {:.4f}'.format(clf.score(X_train, Y_train)))\n",
    "\n",
    "print('Test set score: {:.4f}'.format(clf.score(X_test, Y_test)))"
   ]
  },
  {
   "cell_type": "code",
   "execution_count": null,
   "metadata": {
    "execution": {
     "iopub.execute_input": "2022-10-05T16:10:46.693315Z",
     "iopub.status.busy": "2022-10-05T16:10:46.692098Z",
     "iopub.status.idle": "2022-10-05T16:10:46.7011Z",
     "shell.execute_reply": "2022-10-05T16:10:46.699833Z",
     "shell.execute_reply.started": "2022-10-05T16:10:46.693275Z"
    },
    "trusted": true
   },
   "outputs": [],
   "source": [
    "#check MSE & RMSE \n",
    "mse =mean_squared_error(Y_test, y_pred)\n",
    "print('Mean Squared Error : '+ str(mse))\n",
    "rmse = math.sqrt(mean_squared_error(Y_test, y_pred))\n",
    "print('Root Mean Squared Error : '+ str(rmse))"
   ]
  },
  {
   "cell_type": "code",
   "execution_count": null,
   "metadata": {
    "execution": {
     "iopub.execute_input": "2022-10-05T16:10:46.70351Z",
     "iopub.status.busy": "2022-10-05T16:10:46.702722Z",
     "iopub.status.idle": "2022-10-05T16:10:46.756534Z",
     "shell.execute_reply": "2022-10-05T16:10:46.755337Z",
     "shell.execute_reply.started": "2022-10-05T16:10:46.703463Z"
    },
    "trusted": true
   },
   "outputs": [],
   "source": [
    "matrix = classification_report(Y_test,y_pred )\n",
    "print(matrix)"
   ]
  },
  {
   "cell_type": "code",
   "execution_count": null,
   "metadata": {
    "execution": {
     "iopub.execute_input": "2022-10-05T16:10:46.759098Z",
     "iopub.status.busy": "2022-10-05T16:10:46.758611Z",
     "iopub.status.idle": "2022-10-05T16:10:46.982138Z",
     "shell.execute_reply": "2022-10-05T16:10:46.980995Z",
     "shell.execute_reply.started": "2022-10-05T16:10:46.75905Z"
    },
    "trusted": true
   },
   "outputs": [],
   "source": [
    "# calculating and plotting the confusion matrix\n",
    "cm1 = confusion_matrix(Y_test,y_pred)\n",
    "plot_confusion_matrix(conf_mat=cm1,show_absolute=True,\n",
    "                                show_normed=True,\n",
    "                                colorbar=True)\n",
    "plt.show()"
   ]
  },
  {
   "cell_type": "markdown",
   "metadata": {},
   "source": [
    "**XGBoost**"
   ]
  },
  {
   "cell_type": "code",
   "execution_count": null,
   "metadata": {
    "execution": {
     "iopub.execute_input": "2022-10-05T16:10:46.98407Z",
     "iopub.status.busy": "2022-10-05T16:10:46.983709Z",
     "iopub.status.idle": "2022-10-05T16:10:49.732301Z",
     "shell.execute_reply": "2022-10-05T16:10:49.731145Z",
     "shell.execute_reply.started": "2022-10-05T16:10:46.984038Z"
    },
    "trusted": true
   },
   "outputs": [],
   "source": [
    "from xgboost import XGBClassifier\n",
    "xg = XGBClassifier(eval_metric= 'error', learning_rate= 0.1)\n",
    "xg.fit(X_train , Y_train)"
   ]
  },
  {
   "cell_type": "code",
   "execution_count": null,
   "metadata": {
    "execution": {
     "iopub.execute_input": "2022-10-05T16:10:49.734342Z",
     "iopub.status.busy": "2022-10-05T16:10:49.733985Z",
     "iopub.status.idle": "2022-10-05T16:10:49.856961Z",
     "shell.execute_reply": "2022-10-05T16:10:49.855375Z",
     "shell.execute_reply.started": "2022-10-05T16:10:49.734309Z"
    },
    "trusted": true
   },
   "outputs": [],
   "source": [
    "y_pred=xg.predict(X_test)\n",
    "\n",
    "print('Training set score: {:.4f}'.format(xg.score(X_train, Y_train)))\n",
    "\n",
    "print('Test set score: {:.4f}'.format(xg.score(X_test, Y_test)))"
   ]
  },
  {
   "cell_type": "code",
   "execution_count": null,
   "metadata": {
    "execution": {
     "iopub.execute_input": "2022-10-05T16:10:49.858857Z",
     "iopub.status.busy": "2022-10-05T16:10:49.858483Z",
     "iopub.status.idle": "2022-10-05T16:10:49.866082Z",
     "shell.execute_reply": "2022-10-05T16:10:49.865231Z",
     "shell.execute_reply.started": "2022-10-05T16:10:49.858822Z"
    },
    "trusted": true
   },
   "outputs": [],
   "source": [
    "#check MSE & RMSE \n",
    "mse =mean_squared_error(Y_test, y_pred)\n",
    "print('Mean Squared Error : '+ str(mse))\n",
    "rmse = math.sqrt(mean_squared_error(Y_test, y_pred))\n",
    "print('Root Mean Squared Error : '+ str(rmse))"
   ]
  },
  {
   "cell_type": "code",
   "execution_count": null,
   "metadata": {
    "execution": {
     "iopub.execute_input": "2022-10-05T16:10:49.867938Z",
     "iopub.status.busy": "2022-10-05T16:10:49.867133Z",
     "iopub.status.idle": "2022-10-05T16:10:49.919964Z",
     "shell.execute_reply": "2022-10-05T16:10:49.918596Z",
     "shell.execute_reply.started": "2022-10-05T16:10:49.867903Z"
    },
    "trusted": true
   },
   "outputs": [],
   "source": [
    "matrix = classification_report(Y_test,y_pred )\n",
    "print(matrix)"
   ]
  },
  {
   "cell_type": "code",
   "execution_count": null,
   "metadata": {
    "execution": {
     "iopub.execute_input": "2022-10-05T16:10:49.921702Z",
     "iopub.status.busy": "2022-10-05T16:10:49.921268Z",
     "iopub.status.idle": "2022-10-05T16:10:50.169047Z",
     "shell.execute_reply": "2022-10-05T16:10:50.167801Z",
     "shell.execute_reply.started": "2022-10-05T16:10:49.921669Z"
    },
    "trusted": true
   },
   "outputs": [],
   "source": [
    "# calculating and plotting the confusion matrix\n",
    "cm1 = confusion_matrix(Y_test,y_pred)\n",
    "plot_confusion_matrix(conf_mat=cm1,show_absolute=True,\n",
    "                                show_normed=True,\n",
    "                                colorbar=True)\n",
    "plt.show()"
   ]
  }
 ],
 "metadata": {
  "kaggle": {
   "accelerator": "none",
   "dataSources": [
    {
     "datasetId": 1703281,
     "sourceId": 2789260,
     "sourceType": "datasetVersion"
    }
   ],
   "dockerImageVersionId": 30260,
   "isGpuEnabled": false,
   "isInternetEnabled": false,
   "language": "python",
   "sourceType": "notebook"
  },
  "kernelspec": {
   "display_name": "Python 3",
   "language": "python",
   "name": "python3"
  },
  "language_info": {
   "codemirror_mode": {
    "name": "ipython",
    "version": 3
   },
   "file_extension": ".py",
   "mimetype": "text/x-python",
   "name": "python",
   "nbconvert_exporter": "python",
   "pygments_lexer": "ipython3",
   "version": "3.6.4"
  }
 },
 "nbformat": 4,
 "nbformat_minor": 4
}
